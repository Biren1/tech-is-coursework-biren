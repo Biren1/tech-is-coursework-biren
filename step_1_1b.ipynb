{
 "cells": [
  {
   "cell_type": "code",
   "execution_count": null,
   "metadata": {
    "colab": {
     "base_uri": "https://localhost:8080/",
     "height": 118
    },
    "colab_type": "code",
    "executionInfo": {
     "elapsed": 613,
     "status": "ok",
     "timestamp": 1596153585803,
     "user": {
      "displayName": "Sunzuu KC",
      "photoUrl": "",
      "userId": "13444923504600268989"
     },
     "user_tz": 420
    },
    "id": "o1w8bSDjJpJJ",
    "outputId": "8c0e498e-a904-48e0-8c40-840ca7dd045b"
   },
   "outputs": [
    {
     "name": "stdout",
     "output_type": "stream",
     "text": [
      "TECH I.S.\n",
      "TECH I.S.\n",
      "This is a long string and supports \n",
      "                multiline statements as well\n",
      "             \n",
      "Hello, \"TECH I.S. Student\"\n"
     ]
    }
   ],
   "source": [
    "# string defined with single quotes\n",
    "name_one = 'TECH I.S.'\n",
    "print(name_one)\n",
    "\n",
    "# string defined with double quotes\n",
    "name_two = \"TECH I.S.\"\n",
    "print(name_two)\n",
    "\n",
    "# string defined with triple single quotes\n",
    "name_three = '''This is a long string and supports \n",
    "                multiline statements as well\n",
    "             '''\n",
    "print(name_three)\n",
    "\n",
    "# string defined with double quotes inside the single quotes\n",
    "name_four = 'Hello, \"TECH I.S. Student\"'\n",
    "print(name_four)"
   ]
  },
  {
   "cell_type": "code",
   "execution_count": null,
   "metadata": {
    "colab": {
     "base_uri": "https://localhost:8080/",
     "height": 195
    },
    "colab_type": "code",
    "executionInfo": {
     "elapsed": 628,
     "status": "error",
     "timestamp": 1596153688588,
     "user": {
      "displayName": "Sunzuu KC",
      "photoUrl": "",
      "userId": "13444923504600268989"
     },
     "user_tz": 420
    },
    "id": "pJuYJ55WK8lw",
    "outputId": "69e57ddb-82c7-47aa-fba9-057c0561fe04"
   },
   "outputs": [
    {
     "ename": "TypeError",
     "evalue": "ignored",
     "output_type": "error",
     "traceback": [
      "\u001b[0;31m---------------------------------------------------------------------------\u001b[0m",
      "\u001b[0;31mTypeError\u001b[0m                                 Traceback (most recent call last)",
      "\u001b[0;32m<ipython-input-2-7964c048eec3>\u001b[0m in \u001b[0;36m<module>\u001b[0;34m()\u001b[0m\n\u001b[1;32m      4\u001b[0m \u001b[0;34m\u001b[0m\u001b[0m\n\u001b[1;32m      5\u001b[0m \u001b[0;31m# attempt assigment\u001b[0m\u001b[0;34m\u001b[0m\u001b[0;34m\u001b[0m\u001b[0;34m\u001b[0m\u001b[0m\n\u001b[0;32m----> 6\u001b[0;31m \u001b[0ms\u001b[0m\u001b[0;34m[\u001b[0m\u001b[0;36m0\u001b[0m\u001b[0;34m]\u001b[0m \u001b[0;34m=\u001b[0m \u001b[0;34m'y'\u001b[0m \u001b[0;31m#throws error - hence strings are immutable\u001b[0m\u001b[0;34m\u001b[0m\u001b[0;34m\u001b[0m\u001b[0m\n\u001b[0m",
      "\u001b[0;31mTypeError\u001b[0m: 'str' object does not support item assignment"
     ]
    }
   ],
   "source": [
    "\n",
    "# define string\n",
    "s = \"hello\"\n",
    "\n",
    "# attempt assigment\n",
    "s[0] = 'y' #throws error - hence strings are immutable"
   ]
  },
  {
   "cell_type": "code",
   "execution_count": null,
   "metadata": {
    "colab": {
     "base_uri": "https://localhost:8080/",
     "height": 34
    },
    "colab_type": "code",
    "executionInfo": {
     "elapsed": 341,
     "status": "ok",
     "timestamp": 1596153745946,
     "user": {
      "displayName": "Sunzuu KC",
      "photoUrl": "",
      "userId": "13444923504600268989"
     },
     "user_tz": 420
    },
    "id": "9nu9F2kxLR4D",
    "outputId": "1500a7d5-da3e-4c6d-dc59-b16437321c68"
   },
   "outputs": [
    {
     "name": "stdout",
     "output_type": "stream",
     "text": [
      "yello\n"
     ]
    }
   ],
   "source": [
    "# however, rebinding works \n",
    "# reassigning s with 'y' concatenated with 'ello' extracted from s\n",
    "s = 'y' + s[1:len(s)]\n",
    "\n",
    "print(s)"
   ]
  },
  {
   "cell_type": "code",
   "execution_count": null,
   "metadata": {
    "colab": {
     "base_uri": "https://localhost:8080/",
     "height": 34
    },
    "colab_type": "code",
    "executionInfo": {
     "elapsed": 437,
     "status": "ok",
     "timestamp": 1596153813107,
     "user": {
      "displayName": "Sunzuu KC",
      "photoUrl": "",
      "userId": "13444923504600268989"
     },
     "user_tz": 420
    },
    "id": "O2wmsPYjLkGw",
    "outputId": "59d57269-f75b-4339-fcd9-31613da9768b"
   },
   "outputs": [
    {
     "name": "stdout",
     "output_type": "stream",
     "text": [
      "TECH I.S.\n"
     ]
    }
   ],
   "source": [
    "first_name = \"TECH\"\n",
    "last_name = \"I.S.\"\n",
    "full_name = first_name + ' ' + last_name\n",
    "print(full_name)"
   ]
  },
  {
   "cell_type": "code",
   "execution_count": null,
   "metadata": {
    "colab": {
     "base_uri": "https://localhost:8080/",
     "height": 34
    },
    "colab_type": "code",
    "executionInfo": {
     "elapsed": 363,
     "status": "ok",
     "timestamp": 1596153855532,
     "user": {
      "displayName": "Sunzuu KC",
      "photoUrl": "",
      "userId": "13444923504600268989"
     },
     "user_tz": 420
    },
    "id": "i9Yhd_JALmT8",
    "outputId": "319fd0e3-48b5-49f0-f730-3c7ba85024f3"
   },
   "outputs": [
    {
     "data": {
      "text/plain": [
       "9"
      ]
     },
     "execution_count": 5,
     "metadata": {
      "tags": []
     },
     "output_type": "execute_result"
    }
   ],
   "source": [
    "# check length of string\n",
    "name = \"TECH I.S.\"\n",
    "len(name)"
   ]
  },
  {
   "cell_type": "code",
   "execution_count": null,
   "metadata": {
    "colab": {
     "base_uri": "https://localhost:8080/",
     "height": 296
    },
    "colab_type": "code",
    "executionInfo": {
     "elapsed": 457,
     "status": "error",
     "timestamp": 1596153995586,
     "user": {
      "displayName": "Sunzuu KC",
      "photoUrl": "",
      "userId": "13444923504600268989"
     },
     "user_tz": 420
    },
    "id": "Srml5CvJL2wa",
    "outputId": "9bb0abf0-34cf-458d-f870-09613e374053"
   },
   "outputs": [
    {
     "name": "stdout",
     "output_type": "stream",
     "text": [
      "a\n",
      "b\n",
      "c\n",
      "c\n",
      "b\n",
      "a\n"
     ]
    },
    {
     "ename": "IndexError",
     "evalue": "ignored",
     "output_type": "error",
     "traceback": [
      "\u001b[0;31m---------------------------------------------------------------------------\u001b[0m",
      "\u001b[0;31mIndexError\u001b[0m                                Traceback (most recent call last)",
      "\u001b[0;32m<ipython-input-6-02c240180872>\u001b[0m in \u001b[0;36m<module>\u001b[0;34m()\u001b[0m\n\u001b[1;32m     13\u001b[0m \u001b[0mprint\u001b[0m\u001b[0;34m(\u001b[0m\u001b[0ms\u001b[0m\u001b[0;34m[\u001b[0m\u001b[0;34m-\u001b[0m\u001b[0;36m3\u001b[0m\u001b[0;34m]\u001b[0m\u001b[0;34m)\u001b[0m \u001b[0;31m# output: a\u001b[0m\u001b[0;34m\u001b[0m\u001b[0;34m\u001b[0m\u001b[0m\n\u001b[1;32m     14\u001b[0m \u001b[0;34m\u001b[0m\u001b[0m\n\u001b[0;32m---> 15\u001b[0;31m \u001b[0mprint\u001b[0m\u001b[0;34m(\u001b[0m\u001b[0ms\u001b[0m\u001b[0;34m[\u001b[0m\u001b[0;36m3\u001b[0m\u001b[0;34m]\u001b[0m\u001b[0;34m)\u001b[0m \u001b[0;31m# output: index error\u001b[0m\u001b[0;34m\u001b[0m\u001b[0;34m\u001b[0m\u001b[0m\n\u001b[0m",
      "\u001b[0;31mIndexError\u001b[0m: string index out of range"
     ]
    }
   ],
   "source": [
    "# define a string \n",
    "s = \"abc\"\n",
    "\n",
    "# indexing starts from 0 in Python\n",
    "\n",
    "# use square brackets and the index number to access data\n",
    "print(s[0]) # output: a\n",
    "print(s[1]) # output: b\n",
    "print(s[2]) # output: c\n",
    "\n",
    "print(s[-1]) # output: c\n",
    "print(s[-2]) # output: b\n",
    "print(s[-3]) # output: a\n",
    "\n",
    "print(s[3]) # output: index error"
   ]
  },
  {
   "cell_type": "code",
   "execution_count": null,
   "metadata": {
    "colab": {
     "base_uri": "https://localhost:8080/",
     "height": 118
    },
    "colab_type": "code",
    "executionInfo": {
     "elapsed": 342,
     "status": "ok",
     "timestamp": 1596154034105,
     "user": {
      "displayName": "Sunzuu KC",
      "photoUrl": "",
      "userId": "13444923504600268989"
     },
     "user_tz": 420
    },
    "id": "_vClsmUHMV2e",
    "outputId": "26471206-1077-4bd3-8e61-42e2e22d0e58"
   },
   "outputs": [
    {
     "name": "stdout",
     "output_type": "stream",
     "text": [
      "def\n",
      "def\n",
      "df\n",
      "abcdefgh\n",
      "hgfedcba\n",
      "ec\n"
     ]
    }
   ],
   "source": [
    "# define a new string \n",
    "s = 'abcdefgh'\n",
    "\n",
    "print(s[3:6])     #output: def\n",
    "print(s[3:6:1])   #output: def\n",
    "print(s[3:6:2])   #output: df\n",
    "print(s[::])      #output: abcdefgh (useful for copying string content into new memory location)\n",
    "print(s[::-1])    #output: hgfedbca (reverse string command)\n",
    "print(s[4:1:-2])  #output: ec"
   ]
  },
  {
   "cell_type": "code",
   "execution_count": 1,
   "metadata": {
    "colab": {
     "base_uri": "https://localhost:8080/",
     "height": 34
    },
    "colab_type": "code",
    "executionInfo": {
     "elapsed": 594,
     "status": "ok",
     "timestamp": 1596174493446,
     "user": {
      "displayName": "Sunzuu KC",
      "photoUrl": "",
      "userId": "13444923504600268989"
     },
     "user_tz": 420
    },
    "id": "xc_xsj-iMmXc",
    "outputId": "42c20b3b-021d-4a4e-f4bf-84fbedae3c31"
   },
   "outputs": [
    {
     "name": "stdout",
     "output_type": "stream",
     "text": [
      "[3, 7, 20, '@', 'TECH I.S.', 'makes learning fun!']\n"
     ]
    }
   ],
   "source": [
    "# define a list\n",
    "new_list = [3,7,20,'@','TECH I.S.', 'makes learning fun!']\n",
    "\n",
    "# view list \n",
    "print(new_list)"
   ]
  },
  {
   "cell_type": "code",
   "execution_count": null,
   "metadata": {
    "colab": {
     "base_uri": "https://localhost:8080/",
     "height": 151
    },
    "colab_type": "code",
    "executionInfo": {
     "elapsed": 439,
     "status": "ok",
     "timestamp": 1596154126447,
     "user": {
      "displayName": "Sunzuu KC",
      "photoUrl": "",
      "userId": "13444923504600268989"
     },
     "user_tz": 420
    },
    "id": "vz8pGEQqMrdE",
    "outputId": "b340d83c-0035-48ba-e884-e728f63219dc"
   },
   "outputs": [
    {
     "name": "stdout",
     "output_type": "stream",
     "text": [
      "3\n",
      "7\n",
      "20\n",
      "@\n",
      "makes learning fun!\n",
      "TECH I.S.\n",
      "@\n",
      "20\n"
     ]
    }
   ],
   "source": [
    "\n",
    "# define a list\n",
    "new_list = [3,7,20,'@','TECH I.S.', 'makes learning fun!']\n",
    "\n",
    "\n",
    "print(new_list[0]) # zeroth element\n",
    "print(new_list[1]) # first element\n",
    "print(new_list[2]) # second element\n",
    "print(new_list[3]) # third element\n",
    "\n",
    "print(new_list[-1]) # last element\n",
    "print(new_list[-2]) # last but one element\n",
    "print(new_list[-3]) # last but two element\n",
    "print(new_list[-4]) # last but three elemen"
   ]
  },
  {
   "cell_type": "code",
   "execution_count": null,
   "metadata": {
    "colab": {
     "base_uri": "https://localhost:8080/",
     "height": 34
    },
    "colab_type": "code",
    "executionInfo": {
     "elapsed": 388,
     "status": "ok",
     "timestamp": 1596154208467,
     "user": {
      "displayName": "Sunzuu KC",
      "photoUrl": "",
      "userId": "13444923504600268989"
     },
     "user_tz": 420
    },
    "id": "o5WVGaS4NCb-",
    "outputId": "cbccdedd-69b2-4369-e083-6776809b53ab"
   },
   "outputs": [
    {
     "name": "stdout",
     "output_type": "stream",
     "text": [
      "[[1, 2, 3], ['a', 'b', 'c'], [True, False, 7]]\n"
     ]
    }
   ],
   "source": [
    "\n",
    "# define nested lists \n",
    "nested_list = [\n",
    "               [1,2,3],\n",
    "               ['a','b','c'],\n",
    "               [True,False,7],\n",
    "              ]\n",
    "\n",
    "# check nested list\n",
    "print(nested_list)"
   ]
  },
  {
   "cell_type": "code",
   "execution_count": null,
   "metadata": {
    "colab": {
     "base_uri": "https://localhost:8080/",
     "height": 34
    },
    "colab_type": "code",
    "executionInfo": {
     "elapsed": 350,
     "status": "ok",
     "timestamp": 1596154267941,
     "user": {
      "displayName": "Sunzuu KC",
      "photoUrl": "",
      "userId": "13444923504600268989"
     },
     "user_tz": 420
    },
    "id": "iPH625IuNLe8",
    "outputId": "55f06450-0674-4244-eba5-fe37fc27657c"
   },
   "outputs": [
    {
     "name": "stdout",
     "output_type": "stream",
     "text": [
      "[3, 7, 'one', '@', 'TECH I.S.', 'makes learning fun!']\n"
     ]
    }
   ],
   "source": [
    "# define list\n",
    "new_list = [3,7,20,'@','TECH I.S.', 'makes learning fun!']\n",
    "\n",
    "# try changing content in list\n",
    "new_list[2] = 'one' # accepts change\n",
    "\n",
    "# check list\n",
    "print(new_list)"
   ]
  },
  {
   "cell_type": "code",
   "execution_count": null,
   "metadata": {
    "colab": {
     "base_uri": "https://localhost:8080/",
     "height": 50
    },
    "colab_type": "code",
    "executionInfo": {
     "elapsed": 507,
     "status": "ok",
     "timestamp": 1596154330634,
     "user": {
      "displayName": "Sunzuu KC",
      "photoUrl": "",
      "userId": "13444923504600268989"
     },
     "user_tz": 420
    },
    "id": "bt9zR7QfNd99",
    "outputId": "5c2d439a-432c-4e30-f544-2785f9a735bc"
   },
   "outputs": [
    {
     "name": "stdout",
     "output_type": "stream",
     "text": [
      "[3, 7, 20, '@', 'TECH I.S.', 'makes learning fun!']\n",
      "[3, 7, 20, '@', 'TECH I.S.', 'makes learning fun!', 'wohoo!']\n"
     ]
    }
   ],
   "source": [
    "\n",
    "# define a list\n",
    "new_list = [3,7,20,'@','TECH I.S.', 'makes learning fun!']\n",
    "\n",
    "# print new list\n",
    "print(new_list)\n",
    "\n",
    "# append 'wohoo' to new_list\n",
    "new_list.append('wohoo!')\n",
    "\n",
    "# check apended value\n",
    "print(new_list)"
   ]
  },
  {
   "cell_type": "code",
   "execution_count": null,
   "metadata": {
    "colab": {
     "base_uri": "https://localhost:8080/",
     "height": 50
    },
    "colab_type": "code",
    "executionInfo": {
     "elapsed": 417,
     "status": "ok",
     "timestamp": 1596154408981,
     "user": {
      "displayName": "Sunzuu KC",
      "photoUrl": "",
      "userId": "13444923504600268989"
     },
     "user_tz": 420
    },
    "id": "K555pP8YNus1",
    "outputId": "76b4cf32-d488-40d9-9b34-614eee502af9"
   },
   "outputs": [
    {
     "name": "stdout",
     "output_type": "stream",
     "text": [
      "[3, 7, 20, '@', 'TECH I.S.', 'makes learning fun!']\n",
      "[3, 7, 20, '@', 'TECH I.S.', 'makes learning fun!', \"Let's\", 'do', 'this', '!']\n"
     ]
    }
   ],
   "source": [
    "# define a list\n",
    "new_list = [3,7,20,'@','TECH I.S.', 'makes learning fun!']\n",
    "\n",
    "# print new list\n",
    "print(new_list)\n",
    "\n",
    "# extend new_list with multiple elements in an array\n",
    "new_list.extend([\"Let's\", \"do\", \"this\",\"!\"])\n",
    "# NOTE: multiple elements have to be input in array\n",
    "\n",
    "print(new_list)"
   ]
  },
  {
   "cell_type": "code",
   "execution_count": null,
   "metadata": {
    "colab": {
     "base_uri": "https://localhost:8080/",
     "height": 34
    },
    "colab_type": "code",
    "executionInfo": {
     "elapsed": 423,
     "status": "ok",
     "timestamp": 1596154525398,
     "user": {
      "displayName": "Sunzuu KC",
      "photoUrl": "",
      "userId": "13444923504600268989"
     },
     "user_tz": 420
    },
    "id": "pW_xxG1jOPnc",
    "outputId": "9b9fccee-4838-4658-8f84-f2b78fee2527"
   },
   "outputs": [
    {
     "name": "stdout",
     "output_type": "stream",
     "text": [
      "[3, 7, 20, 'Chocolate', '@', 'TECH I.S.', 'makes learning fun!']\n"
     ]
    }
   ],
   "source": [
    "# define list\n",
    "new_list = [3,7,20,'@','TECH I.S.', 'makes learning fun!']\n",
    "\n",
    "# insert element 'Chocolate' at spot 3 in new_list\n",
    "new_list.insert(3,'Chocolate')\n",
    "\n",
    "# check insertion\n",
    "print(new_list)"
   ]
  },
  {
   "cell_type": "code",
   "execution_count": null,
   "metadata": {
    "colab": {
     "base_uri": "https://localhost:8080/",
     "height": 34
    },
    "colab_type": "code",
    "executionInfo": {
     "elapsed": 387,
     "status": "ok",
     "timestamp": 1596154559764,
     "user": {
      "displayName": "Sunzuu KC",
      "photoUrl": "",
      "userId": "13444923504600268989"
     },
     "user_tz": 420
    },
    "id": "7AMMEZ1lOYFG",
    "outputId": "32153983-4452-4d48-a338-4e278fea87e1"
   },
   "outputs": [
    {
     "name": "stdout",
     "output_type": "stream",
     "text": [
      "[3, 7, '@', 'TECH I.S.', 'makes learning fun!']\n"
     ]
    }
   ],
   "source": [
    "# define list\n",
    "new_list = [3,7,20,'@','TECH I.S.', 'makes learning fun!']\n",
    "\n",
    "# remove 20 from new_list\n",
    "new_list.remove(20)\n",
    "\n",
    "# check removal\n",
    "print(new_list)"
   ]
  },
  {
   "cell_type": "code",
   "execution_count": null,
   "metadata": {
    "colab": {
     "base_uri": "https://localhost:8080/",
     "height": 34
    },
    "colab_type": "code",
    "executionInfo": {
     "elapsed": 411,
     "status": "ok",
     "timestamp": 1596154628615,
     "user": {
      "displayName": "Sunzuu KC",
      "photoUrl": "",
      "userId": "13444923504600268989"
     },
     "user_tz": 420
    },
    "id": "wpGqWk0yOlOp",
    "outputId": "8dca1b76-79d2-445b-a0d5-f33113bbbbe3"
   },
   "outputs": [
    {
     "name": "stdout",
     "output_type": "stream",
     "text": [
      "[3, 7, '@', 'TECH I.S.', 'makes learning fun!']\n"
     ]
    }
   ],
   "source": [
    "# define list\n",
    "new_list = [3,7,20,'@','TECH I.S.', 'makes learning fun!']\n",
    "\n",
    "# pop spot 2 from list\n",
    "new_list.pop(2)\n",
    "\n",
    "# check list \n",
    "print(new_list)"
   ]
  },
  {
   "cell_type": "code",
   "execution_count": null,
   "metadata": {
    "colab": {
     "base_uri": "https://localhost:8080/",
     "height": 84
    },
    "colab_type": "code",
    "executionInfo": {
     "elapsed": 520,
     "status": "ok",
     "timestamp": 1596154686266,
     "user": {
      "displayName": "Sunzuu KC",
      "photoUrl": "",
      "userId": "13444923504600268989"
     },
     "user_tz": 420
    },
    "id": "Ao9aApHoOtXP",
    "outputId": "bd3bcb4d-69d7-41e5-c331-cce4a077ee89"
   },
   "outputs": [
    {
     "name": "stdout",
     "output_type": "stream",
     "text": [
      "[3, 7, 20, '@']\n",
      "[20, '@', 'TECH I.S.', 'makes learning fun!']\n",
      "[7, 20, '@', 'TECH I.S.']\n",
      "[3, 7, 20, '@', 'TECH I.S.', 'makes learning fun!']\n"
     ]
    }
   ],
   "source": [
    "# define list\n",
    "new_list = [3,7,20,'@','TECH I.S.', 'makes learning fun!']\n",
    "\n",
    "# extract combinations of new_list extracts\n",
    "print(new_list[:4])\n",
    "print(new_list[2:])\n",
    "print(new_list[1:5])\n",
    "print(new_list[:])"
   ]
  },
  {
   "cell_type": "code",
   "execution_count": null,
   "metadata": {
    "colab": {
     "base_uri": "https://localhost:8080/",
     "height": 67
    },
    "colab_type": "code",
    "executionInfo": {
     "elapsed": 394,
     "status": "ok",
     "timestamp": 1596154755075,
     "user": {
      "displayName": "Sunzuu KC",
      "photoUrl": "",
      "userId": "13444923504600268989"
     },
     "user_tz": 420
    },
    "id": "ZqFc9aWJO7v7",
    "outputId": "1665456e-b06b-4043-8ca2-c9e3b972c445"
   },
   "outputs": [
    {
     "name": "stdout",
     "output_type": "stream",
     "text": [
      "['makes learning fun!', 'TECH I.S.', '@', 20, 7, 3]\n",
      "[3, 7, 20, '@', 'TECH I.S.', 'makes learning fun!']\n",
      "['makes learning fun!', 'TECH I.S.', '@', 20, 7, 3]\n"
     ]
    }
   ],
   "source": [
    "# define list\n",
    "new_list = [3,7,20,'@','TECH I.S.', 'makes learning fun!']\n",
    "\n",
    "# without modifying the original list\n",
    "print(new_list[::-1])\n",
    "print(new_list) # unmodified original list\n",
    "\n",
    "# modify the original list\n",
    "new_list.reverse() # modify original list\n",
    "print(new_list)"
   ]
  },
  {
   "cell_type": "code",
   "execution_count": null,
   "metadata": {
    "colab": {
     "base_uri": "https://localhost:8080/",
     "height": 34
    },
    "colab_type": "code",
    "executionInfo": {
     "elapsed": 341,
     "status": "ok",
     "timestamp": 1596154748379,
     "user": {
      "displayName": "Sunzuu KC",
      "photoUrl": "",
      "userId": "13444923504600268989"
     },
     "user_tz": 420
    },
    "id": "vMC8S84oPDGe",
    "outputId": "cdf8f28c-8a4e-41a4-c886-bc8a70c1cde8"
   },
   "outputs": [
    {
     "data": {
      "text/plain": [
       "6"
      ]
     },
     "execution_count": 20,
     "metadata": {
      "tags": []
     },
     "output_type": "execute_result"
    }
   ],
   "source": [
    "# define list\n",
    "new_list = [3,7,20,'@','TECH I.S.', 'makes learning fun!']\n",
    "\n",
    "# print length of new_list\n",
    "len(new_list)"
   ]
  },
  {
   "cell_type": "code",
   "execution_count": null,
   "metadata": {
    "colab": {
     "base_uri": "https://localhost:8080/",
     "height": 84
    },
    "colab_type": "code",
    "executionInfo": {
     "elapsed": 391,
     "status": "ok",
     "timestamp": 1596154799743,
     "user": {
      "displayName": "Sunzuu KC",
      "photoUrl": "",
      "userId": "13444923504600268989"
     },
     "user_tz": 420
    },
    "id": "gDv-DRbdPUDP",
    "outputId": "45ec2c24-e337-4666-8cb0-f2702e737d66"
   },
   "outputs": [
    {
     "name": "stdout",
     "output_type": "stream",
     "text": [
      "7\n",
      "99\n",
      "%$\n",
      "x\n"
     ]
    }
   ],
   "source": [
    "# define list\n",
    "new_list = [8,12,7,10,52,33,21,99]\n",
    "\n",
    "# check min and max of new_list\n",
    "print(min(new_list))\n",
    "print(max(new_list))\n",
    "\n",
    "# define list\n",
    "new_list = ['x','10','99','twenty','%$','--']\n",
    "\n",
    "# check min and max of new_list\n",
    "print(min(new_list))\n",
    "print(max(new_list))"
   ]
  },
  {
   "cell_type": "code",
   "execution_count": null,
   "metadata": {
    "colab": {
     "base_uri": "https://localhost:8080/",
     "height": 50
    },
    "colab_type": "code",
    "executionInfo": {
     "elapsed": 383,
     "status": "ok",
     "timestamp": 1596154824291,
     "user": {
      "displayName": "Sunzuu KC",
      "photoUrl": "",
      "userId": "13444923504600268989"
     },
     "user_tz": 420
    },
    "id": "vboYFJW2PbUs",
    "outputId": "76b5d043-1a22-4ddf-b55e-104d6cf30ca6"
   },
   "outputs": [
    {
     "name": "stdout",
     "output_type": "stream",
     "text": [
      "3\n",
      "1\n"
     ]
    }
   ],
   "source": [
    "# define list\n",
    "new_list = [8,12,7,10,7,33,21,7]\n",
    "\n",
    "# count the number of occurences of 7\n",
    "print(new_list.count(7))\n",
    "\n",
    "# count the number of occurences of 10\n",
    "print(new_list.count(10))"
   ]
  },
  {
   "cell_type": "code",
   "execution_count": null,
   "metadata": {
    "colab": {
     "base_uri": "https://localhost:8080/",
     "height": 67
    },
    "colab_type": "code",
    "executionInfo": {
     "elapsed": 363,
     "status": "ok",
     "timestamp": 1596154928382,
     "user": {
      "displayName": "Sunzuu KC",
      "photoUrl": "",
      "userId": "13444923504600268989"
     },
     "user_tz": 420
    },
    "id": "BOp7UHH3PdJf",
    "outputId": "c3e7cd00-c31a-422b-b9ce-054174f67f08"
   },
   "outputs": [
    {
     "name": "stdout",
     "output_type": "stream",
     "text": [
      "['three', 'hundred']\n",
      "['words', 'in', 'a', 'paragraph']\n",
      "['three', 'hundred', 'words', 'in', 'a', 'paragraph']\n"
     ]
    }
   ],
   "source": [
    "# define two lists\n",
    "list_first = ['three','hundred']\n",
    "print(list_first)\n",
    "\n",
    "list_second = ['words','in','a','paragraph']\n",
    "print(list_second)\n",
    "\n",
    "# concatenate lists\n",
    "list_combined = list_first + list_second\n",
    "print(list_combined)"
   ]
  },
  {
   "cell_type": "code",
   "execution_count": null,
   "metadata": {
    "colab": {
     "base_uri": "https://localhost:8080/",
     "height": 70
    },
    "colab_type": "code",
    "executionInfo": {
     "elapsed": 398,
     "status": "ok",
     "timestamp": 1596154992586,
     "user": {
      "displayName": "Sunzuu KC",
      "photoUrl": "",
      "userId": "13444923504600268989"
     },
     "user_tz": 420
    },
    "id": "w2Yy2ubFP25w",
    "outputId": "6af5622c-515a-4969-8d89-1ed0fd25d088"
   },
   "outputs": [
    {
     "name": "stdout",
     "output_type": "stream",
     "text": [
      "[3, 7, 20, '@', 'TECH I.S.', 'makes learning fun!', 3, 7, 20, '@', 'TECH I.S.', 'makes learning fun!']\n",
      "[3, 7, 20, '@', 'TECH I.S.', 'makes learning fun!', 3, 7, 20, '@', 'TECH I.S.', 'makes learning fun!', 3, 7, 20, '@', 'TECH I.S.', 'makes learning fun!']\n"
     ]
    }
   ],
   "source": [
    "# define list\n",
    "new_list = [3,7,20,'@','TECH I.S.', 'makes learning fun!']\n",
    "\n",
    "# multiply list\n",
    "print(new_list*2)\n",
    "print(new_list*3)"
   ]
  },
  {
   "cell_type": "code",
   "execution_count": null,
   "metadata": {
    "colab": {
     "base_uri": "https://localhost:8080/",
     "height": 50
    },
    "colab_type": "code",
    "executionInfo": {
     "elapsed": 405,
     "status": "ok",
     "timestamp": 1596155057033,
     "user": {
      "displayName": "Sunzuu KC",
      "photoUrl": "",
      "userId": "13444923504600268989"
     },
     "user_tz": 420
    },
    "id": "_QbKm0TkQQ2I",
    "outputId": "6649b097-a894-4797-a016-3ac72fbea862"
   },
   "outputs": [
    {
     "name": "stdout",
     "output_type": "stream",
     "text": [
      "4\n",
      "3\n"
     ]
    }
   ],
   "source": [
    "\n",
    "# define list\n",
    "new_list = [3,7,20,'@','TECH I.S.', 'makes learning fun!']\n",
    "\n",
    "# search index of 'TECH I.S.'\n",
    "print(new_list.index('TECH I.S.'))\n",
    "\n",
    "# search '@' with optional arguments\n",
    "print(new_list.index('@',1,4))"
   ]
  },
  {
   "cell_type": "code",
   "execution_count": null,
   "metadata": {
    "colab": {
     "base_uri": "https://localhost:8080/",
     "height": 50
    },
    "colab_type": "code",
    "executionInfo": {
     "elapsed": 343,
     "status": "ok",
     "timestamp": 1596155164604,
     "user": {
      "displayName": "Sunzuu KC",
      "photoUrl": "",
      "userId": "13444923504600268989"
     },
     "user_tz": 420
    },
    "id": "EYvHHeYRQonv",
    "outputId": "63e87265-4591-4412-9566-b6b62279748e"
   },
   "outputs": [
    {
     "name": "stdout",
     "output_type": "stream",
     "text": [
      "[4, 2, 6, 5, 0, 1]\n",
      "[0, 1, 2, 4, 5, 6]\n"
     ]
    }
   ],
   "source": [
    "# define list\n",
    "new_list = [4, 2, 6, 5, 0, 1] \n",
    "\n",
    "# check unsorted list\n",
    "print(new_list)\n",
    "\n",
    "# sort list\n",
    "new_list.sort()\n",
    "\n",
    "# check sorted list\n",
    "print(new_list)"
   ]
  },
  {
   "cell_type": "code",
   "execution_count": null,
   "metadata": {
    "colab": {
     "base_uri": "https://localhost:8080/",
     "height": 50
    },
    "colab_type": "code",
    "executionInfo": {
     "elapsed": 376,
     "status": "ok",
     "timestamp": 1596155186882,
     "user": {
      "displayName": "Sunzuu KC",
      "photoUrl": "",
      "userId": "13444923504600268989"
     },
     "user_tz": 420
    },
    "id": "Eg4HuTkbQwLq",
    "outputId": "24bccf7f-f017-47d7-e92e-0e181cac9c0b"
   },
   "outputs": [
    {
     "name": "stdout",
     "output_type": "stream",
     "text": [
      "[4, 2, 6, 5, 0, 1]\n",
      "[0, 1, 2, 4, 5, 6]\n"
     ]
    }
   ],
   "source": [
    "# define list\n",
    "new_list = [4, 2, 6, 5, 0, 1] \n",
    "\n",
    "# print sorted list\n",
    "new_sorted_list = sorted(new_list)\n",
    "\n",
    "# check original list\n",
    "print(new_list)\n",
    "\n",
    "# check sorted list\n",
    "print(new_sorted_list)"
   ]
  },
  {
   "cell_type": "code",
   "execution_count": null,
   "metadata": {
    "colab": {
     "base_uri": "https://localhost:8080/",
     "height": 50
    },
    "colab_type": "code",
    "executionInfo": {
     "elapsed": 395,
     "status": "ok",
     "timestamp": 1596155210318,
     "user": {
      "displayName": "Sunzuu KC",
      "photoUrl": "",
      "userId": "13444923504600268989"
     },
     "user_tz": 420
    },
    "id": "j6WHlu4dQ26u",
    "outputId": "c0006362-33dd-43d8-c8f7-6e3bcce21f0b"
   },
   "outputs": [
    {
     "name": "stdout",
     "output_type": "stream",
     "text": [
      "[4, 2, 6, 5, 0, 1]\n",
      "[]\n"
     ]
    }
   ],
   "source": [
    "# define list\n",
    "new_list = [4, 2, 6, 5, 0, 1] \n",
    "\n",
    "# check unsorted list\n",
    "print(new_list)\n",
    "\n",
    "# clear list\n",
    "new_list.clear()\n",
    "\n",
    "# check cleared list\n",
    "print(new_list)"
   ]
  },
  {
   "cell_type": "code",
   "execution_count": null,
   "metadata": {
    "colab": {
     "base_uri": "https://localhost:8080/",
     "height": 151
    },
    "colab_type": "code",
    "executionInfo": {
     "elapsed": 370,
     "status": "ok",
     "timestamp": 1596155246206,
     "user": {
      "displayName": "Sunzuu KC",
      "photoUrl": "",
      "userId": "13444923504600268989"
     },
     "user_tz": 420
    },
    "id": "V46yUHE1Q7Mk",
    "outputId": "88645a5e-9aa1-42c9-fc03-80229c839125"
   },
   "outputs": [
    {
     "name": "stdout",
     "output_type": "stream",
     "text": [
      "(1, 2, 3, 4)\n",
      "(5, 6, 'python', 8)\n",
      "()\n",
      "('apple', 'banana', 'cherry')\n",
      "<class 'str'>\n",
      "apple\n",
      "<class 'tuple'>\n",
      "('apple',)\n"
     ]
    }
   ],
   "source": [
    "# create a new tuple - without specifying brackets\n",
    "new_tuple_one = 1,2,3,4\n",
    "\n",
    "# print tuple\n",
    "print(new_tuple_one)\n",
    "\n",
    "#--------------------------------------------------------\n",
    "# create a new tuple - with brackets\n",
    "new_tuple_two = (5,6,\"python\",8)\n",
    "\n",
    "# print tuple\n",
    "print(new_tuple_two)\n",
    "\n",
    "#--------------------------------------------------------\n",
    "# create empty tuple\n",
    "empty_tuple = ()\n",
    "\n",
    "# check empty tuple\n",
    "print(empty_tuple)\n",
    "\n",
    "#--------------------------------------------------------\n",
    "# create tuple using Constructor\n",
    "new_tuple_three = tuple((\"apple\",\"banana\",\"cherry\"))\n",
    "\n",
    "# check empty tuple\n",
    "print(new_tuple_three)\n",
    "\n",
    "#--------------------------------------------------------\n",
    "# single element tuples \n",
    "new_tuple_wrong = (\"apple\") # wrong single element tuple\n",
    "print(type(new_tuple_wrong))  # outputs string\n",
    "print(new_tuple_wrong)\n",
    "\n",
    "new_tuple_right = (\"apple\",) # correct single element tuple\n",
    "print(type(new_tuple_right)) # outputs tuple\n",
    "print(new_tuple_right)"
   ]
  },
  {
   "cell_type": "code",
   "execution_count": null,
   "metadata": {
    "colab": {
     "base_uri": "https://localhost:8080/",
     "height": 346
    },
    "colab_type": "code",
    "executionInfo": {
     "elapsed": 387,
     "status": "error",
     "timestamp": 1596155408901,
     "user": {
      "displayName": "Sunzuu KC",
      "photoUrl": "",
      "userId": "13444923504600268989"
     },
     "user_tz": 420
    },
    "id": "HsuRT1C2Rm5k",
    "outputId": "c25e347f-e909-4812-d48c-3eb1639d75c3"
   },
   "outputs": [
    {
     "name": "stdout",
     "output_type": "stream",
     "text": [
      "apple\n",
      "orange\n",
      "banana\n",
      "berry\n",
      "mango\n",
      "mango\n",
      "berry\n",
      "banana\n",
      "orange\n"
     ]
    },
    {
     "ename": "IndexError",
     "evalue": "ignored",
     "output_type": "error",
     "traceback": [
      "\u001b[0;31m---------------------------------------------------------------------------\u001b[0m",
      "\u001b[0;31mIndexError\u001b[0m                                Traceback (most recent call last)",
      "\u001b[0;32m<ipython-input-31-7394ce0dab26>\u001b[0m in \u001b[0;36m<module>\u001b[0;34m()\u001b[0m\n\u001b[1;32m     14\u001b[0m \u001b[0mprint\u001b[0m\u001b[0;34m(\u001b[0m\u001b[0mnew_tuple\u001b[0m\u001b[0;34m[\u001b[0m\u001b[0;34m-\u001b[0m\u001b[0;36m4\u001b[0m\u001b[0;34m]\u001b[0m\u001b[0;34m)\u001b[0m \u001b[0;31m#last but three element\u001b[0m\u001b[0;34m\u001b[0m\u001b[0;34m\u001b[0m\u001b[0m\n\u001b[1;32m     15\u001b[0m \u001b[0;34m\u001b[0m\u001b[0m\n\u001b[0;32m---> 16\u001b[0;31m \u001b[0mprint\u001b[0m\u001b[0;34m(\u001b[0m\u001b[0mnew_tuple\u001b[0m\u001b[0;34m[\u001b[0m\u001b[0;36m5\u001b[0m\u001b[0;34m]\u001b[0m\u001b[0;34m)\u001b[0m \u001b[0;31m# throws error - no fifth element\u001b[0m\u001b[0;34m\u001b[0m\u001b[0;34m\u001b[0m\u001b[0m\n\u001b[0m",
      "\u001b[0;31mIndexError\u001b[0m: tuple index out of range"
     ]
    }
   ],
   "source": [
    "\n",
    "# define a new tuple\n",
    "new_tuple = \"apple\",\"orange\",\"banana\",\"berry\",\"mango\"\n",
    "\n",
    "print(new_tuple[0]) # zeroth element\n",
    "print(new_tuple[1]) # first element\n",
    "print(new_tuple[2]) # second element\n",
    "print(new_tuple[3]) # third element\n",
    "print(new_tuple[4]) # fourth element\n",
    "\n",
    "print(new_tuple[-1]) #last element\n",
    "print(new_tuple[-2]) #last but one element\n",
    "print(new_tuple[-3]) #last but two element\n",
    "print(new_tuple[-4]) #last but three element\n",
    "\n",
    "print(new_tuple[5]) # throws error - no fifth element"
   ]
  },
  {
   "cell_type": "code",
   "execution_count": null,
   "metadata": {
    "colab": {
     "base_uri": "https://localhost:8080/",
     "height": 195
    },
    "colab_type": "code",
    "executionInfo": {
     "elapsed": 357,
     "status": "error",
     "timestamp": 1596155442844,
     "user": {
      "displayName": "Sunzuu KC",
      "photoUrl": "",
      "userId": "13444923504600268989"
     },
     "user_tz": 420
    },
    "id": "6OR-vIgkRvx2",
    "outputId": "4498cb8f-71fd-4af0-a240-219625440296"
   },
   "outputs": [
    {
     "ename": "TypeError",
     "evalue": "ignored",
     "output_type": "error",
     "traceback": [
      "\u001b[0;31m---------------------------------------------------------------------------\u001b[0m",
      "\u001b[0;31mTypeError\u001b[0m                                 Traceback (most recent call last)",
      "\u001b[0;32m<ipython-input-32-7ce2cda4711f>\u001b[0m in \u001b[0;36m<module>\u001b[0;34m()\u001b[0m\n\u001b[1;32m      3\u001b[0m \u001b[0;34m\u001b[0m\u001b[0m\n\u001b[1;32m      4\u001b[0m \u001b[0;31m# try changing tuple content\u001b[0m\u001b[0;34m\u001b[0m\u001b[0;34m\u001b[0m\u001b[0;34m\u001b[0m\u001b[0m\n\u001b[0;32m----> 5\u001b[0;31m \u001b[0mnew_tuple\u001b[0m\u001b[0;34m[\u001b[0m\u001b[0;36m4\u001b[0m\u001b[0;34m]\u001b[0m \u001b[0;34m=\u001b[0m \u001b[0;34m'Spring'\u001b[0m \u001b[0;31m# throws error\u001b[0m\u001b[0;34m\u001b[0m\u001b[0;34m\u001b[0m\u001b[0m\n\u001b[0m",
      "\u001b[0;31mTypeError\u001b[0m: 'tuple' object does not support item assignment"
     ]
    }
   ],
   "source": [
    "# define tuple\n",
    "new_tuple = (1,7,'$', 'Summers', 'Winters' )\n",
    "\n",
    "# try changing tuple content\n",
    "new_tuple[4] = 'Spring' # throws error"
   ]
  },
  {
   "cell_type": "code",
   "execution_count": null,
   "metadata": {
    "colab": {
     "base_uri": "https://localhost:8080/",
     "height": 67
    },
    "colab_type": "code",
    "executionInfo": {
     "elapsed": 377,
     "status": "ok",
     "timestamp": 1596155498333,
     "user": {
      "displayName": "Sunzuu KC",
      "photoUrl": "",
      "userId": "13444923504600268989"
     },
     "user_tz": 420
    },
    "id": "hm6E3o-kR7BY",
    "outputId": "285c97a8-bcd3-4b3b-d865-129b74af17ca"
   },
   "outputs": [
    {
     "name": "stdout",
     "output_type": "stream",
     "text": [
      "(9, 5, 6, 4, 2, 1)\n",
      "('a', 5, 7, 6, 3, 1)\n",
      "(9, 5, 6, 4, 2, 1, 'a', 5, 7, 6, 3, 1)\n"
     ]
    }
   ],
   "source": [
    "# define two new tuple\n",
    "new_tuple_one = 9,5,6,4,2,1\n",
    "new_tuple_two = 'a',5,7,6,3,1\n",
    "\n",
    "print(new_tuple_one)\n",
    "print(new_tuple_two)\n",
    "\n",
    "# add a new element\n",
    "merged_tuple = new_tuple_one + new_tuple_two\n",
    "\n",
    "# check merged tuple\n",
    "print(merged_tuple)"
   ]
  },
  {
   "cell_type": "code",
   "execution_count": null,
   "metadata": {
    "colab": {
     "base_uri": "https://localhost:8080/",
     "height": 67
    },
    "colab_type": "code",
    "executionInfo": {
     "elapsed": 374,
     "status": "ok",
     "timestamp": 1596155526287,
     "user": {
      "displayName": "Sunzuu KC",
      "photoUrl": "",
      "userId": "13444923504600268989"
     },
     "user_tz": 420
    },
    "id": "iHD4HvYsSCKL",
    "outputId": "0c16003a-4279-4aa3-b061-b9c6079c3395"
   },
   "outputs": [
    {
     "name": "stdout",
     "output_type": "stream",
     "text": [
      "('a', 5, 7, 6, 3, 1)\n",
      "('a', 5, 7, 6, 3, 1, 'a', 5, 7, 6, 3, 1)\n",
      "('a', 5, 7, 6, 3, 1, 'a', 5, 7, 6, 3, 1, 'a', 5, 7, 6, 3, 1)\n"
     ]
    }
   ],
   "source": [
    "# define a tuple\n",
    "new_tuple = 'a',5,7,6,3,1\n",
    "\n",
    "print(new_tuple)\n",
    "\n",
    "# multiply and print result\n",
    "print(new_tuple*2)\n",
    "print(new_tuple*3)"
   ]
  },
  {
   "cell_type": "code",
   "execution_count": null,
   "metadata": {
    "colab": {
     "base_uri": "https://localhost:8080/",
     "height": 34
    },
    "colab_type": "code",
    "executionInfo": {
     "elapsed": 393,
     "status": "ok",
     "timestamp": 1596155548609,
     "user": {
      "displayName": "Sunzuu KC",
      "photoUrl": "",
      "userId": "13444923504600268989"
     },
     "user_tz": 420
    },
    "id": "kqIhnoCuSMNe",
    "outputId": "1c8287a5-89e3-43bc-dc8e-53b9fea42981"
   },
   "outputs": [
    {
     "data": {
      "text/plain": [
       "6"
      ]
     },
     "execution_count": 35,
     "metadata": {
      "tags": []
     },
     "output_type": "execute_result"
    }
   ],
   "source": [
    "# define a tuple\n",
    "new_tuple = 'a',5,7,6,3,1\n",
    "\n",
    "len(new_tuple)"
   ]
  },
  {
   "cell_type": "code",
   "execution_count": null,
   "metadata": {
    "colab": {
     "base_uri": "https://localhost:8080/",
     "height": 84
    },
    "colab_type": "code",
    "executionInfo": {
     "elapsed": 367,
     "status": "ok",
     "timestamp": 1596155580267,
     "user": {
      "displayName": "Sunzuu KC",
      "photoUrl": "",
      "userId": "13444923504600268989"
     },
     "user_tz": 420
    },
    "id": "QOCwSumQSPnF",
    "outputId": "9f2019cd-ea21-4a51-8da1-5eac4f1656e9"
   },
   "outputs": [
    {
     "name": "stdout",
     "output_type": "stream",
     "text": [
      "7\n",
      "99\n",
      "%$\n",
      "x\n"
     ]
    }
   ],
   "source": [
    "\n",
    "# define tuple\n",
    "new_tuple = 8,12,7,10,52,33,21,99\n",
    "\n",
    "# check min and max of new_tuple\n",
    "print(min(new_tuple))\n",
    "print(max(new_tuple))\n",
    "\n",
    "# define list\n",
    "new_tuple = 'x','10','99','twenty','%$','--'\n",
    "\n",
    "# check min and max of new_list\n",
    "print(min(new_tuple))\n",
    "print(max(new_tuple))"
   ]
  },
  {
   "cell_type": "code",
   "execution_count": null,
   "metadata": {
    "colab": {
     "base_uri": "https://localhost:8080/",
     "height": 34
    },
    "colab_type": "code",
    "executionInfo": {
     "elapsed": 366,
     "status": "ok",
     "timestamp": 1596155600855,
     "user": {
      "displayName": "Sunzuu KC",
      "photoUrl": "",
      "userId": "13444923504600268989"
     },
     "user_tz": 420
    },
    "id": "o6ycSFPqSWqk",
    "outputId": "b5bee677-e0d6-4c75-92ae-e1fa8835d0a1"
   },
   "outputs": [
    {
     "name": "stdout",
     "output_type": "stream",
     "text": [
      "4\n"
     ]
    }
   ],
   "source": [
    "\n",
    "# define a tuple\n",
    "new_tuple = 5,3,6,3,1,3,2,3\n",
    "\n",
    "# count the number of 3s in the tuple\n",
    "print(new_tuple.count(3))"
   ]
  },
  {
   "cell_type": "code",
   "execution_count": null,
   "metadata": {
    "colab": {
     "base_uri": "https://localhost:8080/",
     "height": 34
    },
    "colab_type": "code",
    "executionInfo": {
     "elapsed": 424,
     "status": "ok",
     "timestamp": 1596155632072,
     "user": {
      "displayName": "Sunzuu KC",
      "photoUrl": "",
      "userId": "13444923504600268989"
     },
     "user_tz": 420
    },
    "id": "Lzfq9FVuSbfT",
    "outputId": "40a7ddd1-4cd5-4714-a8cf-b0ec987cf01f"
   },
   "outputs": [
    {
     "name": "stdout",
     "output_type": "stream",
     "text": [
      "2\n"
     ]
    }
   ],
   "source": [
    "# define a tuple\n",
    "new_tuple = 5,6,3,1,3,2,3\n",
    "\n",
    "# find the index location of the first occurence of 3\n",
    "print(new_tuple.index(3))"
   ]
  },
  {
   "cell_type": "code",
   "execution_count": null,
   "metadata": {
    "colab": {
     "base_uri": "https://localhost:8080/",
     "height": 212
    },
    "colab_type": "code",
    "executionInfo": {
     "elapsed": 403,
     "status": "error",
     "timestamp": 1596155668071,
     "user": {
      "displayName": "Sunzuu KC",
      "photoUrl": "",
      "userId": "13444923504600268989"
     },
     "user_tz": 420
    },
    "id": "O67VpZJYSnKV",
    "outputId": "d41c56e3-679b-46f4-88ab-3a537ebdf357"
   },
   "outputs": [
    {
     "name": "stdout",
     "output_type": "stream",
     "text": [
      "(5, 3, 6, 3, 1, 3, 2, 3)\n"
     ]
    },
    {
     "ename": "NameError",
     "evalue": "ignored",
     "output_type": "error",
     "traceback": [
      "\u001b[0;31m---------------------------------------------------------------------------\u001b[0m",
      "\u001b[0;31mNameError\u001b[0m                                 Traceback (most recent call last)",
      "\u001b[0;32m<ipython-input-40-998988b9605b>\u001b[0m in \u001b[0;36m<module>\u001b[0;34m()\u001b[0m\n\u001b[1;32m     10\u001b[0m \u001b[0;34m\u001b[0m\u001b[0m\n\u001b[1;32m     11\u001b[0m \u001b[0;31m# check deletion\u001b[0m\u001b[0;34m\u001b[0m\u001b[0;34m\u001b[0m\u001b[0;34m\u001b[0m\u001b[0m\n\u001b[0;32m---> 12\u001b[0;31m \u001b[0mprint\u001b[0m\u001b[0;34m(\u001b[0m\u001b[0mnew_tuple\u001b[0m\u001b[0;34m)\u001b[0m \u001b[0;31m# will throw an error becasue tuple doesnt exists\u001b[0m\u001b[0;34m\u001b[0m\u001b[0;34m\u001b[0m\u001b[0m\n\u001b[0m",
      "\u001b[0;31mNameError\u001b[0m: name 'new_tuple' is not defined"
     ]
    }
   ],
   "source": [
    "\n",
    "# define a tuple\n",
    "new_tuple = 5,3,6,3,1,3,2,3\n",
    "\n",
    "# check tuple\n",
    "print(new_tuple)\n",
    "\n",
    "# delete the tuple\n",
    "del(new_tuple)\n",
    "\n",
    "# check deletion\n",
    "print(new_tuple) # will throw an error becasue tuple doesnt exists"
   ]
  },
  {
   "cell_type": "code",
   "execution_count": null,
   "metadata": {
    "colab": {
     "base_uri": "https://localhost:8080/",
     "height": 84
    },
    "colab_type": "code",
    "executionInfo": {
     "elapsed": 378,
     "status": "ok",
     "timestamp": 1596155819310,
     "user": {
      "displayName": "Sunzuu KC",
      "photoUrl": "",
      "userId": "13444923504600268989"
     },
     "user_tz": 420
    },
    "id": "Oew5C0IzTHbe",
    "outputId": "33808c13-1a3e-47cb-f7e9-b076bd3ee8bd"
   },
   "outputs": [
    {
     "name": "stdout",
     "output_type": "stream",
     "text": [
      "True\n",
      "False\n",
      "True\n",
      "True\n"
     ]
    }
   ],
   "source": [
    "# define lists\n",
    "x = [\"apple\", \"banana\"]\n",
    "y = [\"apple\", \"banana\"]\n",
    "z = x\n",
    "\n",
    "# 'is' test \n",
    "print(x is z)\n",
    "\n",
    "# 'is' test \n",
    "print(x is y)\n",
    "\n",
    "# equality test\n",
    "print(x == y)\n",
    "\n",
    "# 'is not' test\n",
    "print(x is not y)"
   ]
  },
  {
   "cell_type": "code",
   "execution_count": 2,
   "metadata": {
    "colab": {
     "base_uri": "https://localhost:8080/",
     "height": 67
    },
    "colab_type": "code",
    "executionInfo": {
     "elapsed": 549,
     "status": "ok",
     "timestamp": 1596179618720,
     "user": {
      "displayName": "Sunzuu KC",
      "photoUrl": "",
      "userId": "13444923504600268989"
     },
     "user_tz": 420
    },
    "id": "Z3ABbFU2TTI6",
    "outputId": "ff9d22e4-42c3-4748-e420-f248062876bb"
   },
   "outputs": [
    {
     "name": "stdout",
     "output_type": "stream",
     "text": [
      "True\n",
      "False\n",
      "True\n"
     ]
    }
   ],
   "source": [
    "\n",
    "# define list \n",
    "x = [\"apple\", \"banana\"]\n",
    "\n",
    "# 'in' test\n",
    "print(\"banana\" in x)\n",
    "\n",
    "# 'in' test\n",
    "print(\"pineapple\" in x)\n",
    "\n",
    "# 'not in' test\n",
    "print(\"pineapple\" not in x)"
   ]
  }
 ],
 "metadata": {
  "colab": {
   "authorship_tag": "ABX9TyP5SCblndv9/Ea5iXY+aa3x",
   "collapsed_sections": [],
   "name": "step_1_1b.ipynb",
   "provenance": []
  },
  "kernelspec": {
   "display_name": "Python 3",
   "language": "python",
   "name": "python3"
  },
  "language_info": {
   "codemirror_mode": {
    "name": "ipython",
    "version": 3
   },
   "file_extension": ".py",
   "mimetype": "text/x-python",
   "name": "python",
   "nbconvert_exporter": "python",
   "pygments_lexer": "ipython3",
   "version": "3.8.3"
  }
 },
 "nbformat": 4,
 "nbformat_minor": 1
}
