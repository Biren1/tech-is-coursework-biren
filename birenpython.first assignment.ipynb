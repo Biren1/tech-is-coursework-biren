{
 "cells": [
  {
   "cell_type": "code",
   "execution_count": 3,
   "metadata": {},
   "outputs": [
    {
     "name": "stdout",
     "output_type": "stream",
     "text": [
      "Enter the n number:19\n",
      "19 is odd number\n"
     ]
    }
   ],
   "source": [
    "#\"number from the user and find it is even or odd\"\n",
    "\n",
    "n= int (input(\"Enter the n number:\"))\n",
    "if (n % 2)==0:\n",
    "   print(n,\"is even number\")\n",
    "\n",
    "else:\n",
    "   print(n,\"is odd number\")"
   ]
  },
  {
   "cell_type": "code",
   "execution_count": 1,
   "metadata": {},
   "outputs": [
    {
     "name": "stdout",
     "output_type": "stream",
     "text": [
      "Enter the n number:40\n",
      "40 is even number\n"
     ]
    }
   ],
   "source": [
    "n= int (input(\"Enter the n number:\"))\n",
    "if (n % 2)==0:\n",
    "   print(n,\"is even number\")\n",
    "\n",
    "else:\n",
    "   print(n,\"is odd number\")"
   ]
  },
  {
   "cell_type": "code",
   "execution_count": null,
   "metadata": {},
   "outputs": [],
   "source": [
    "Write the program for odd/even number using if else."
   ]
  },
  {
   "cell_type": "code",
   "execution_count": null,
   "metadata": {},
   "outputs": [],
   "source": [
    "Write the program for Leap year number using if else."
   ]
  },
  {
   "cell_type": "code",
   "execution_count": 17,
   "metadata": {},
   "outputs": [
    {
     "name": "stdout",
     "output_type": "stream",
     "text": [
      "Enter the year:2004\n",
      "2004 is a leap year\n"
     ]
    }
   ],
   "source": [
    "year = int(input(\"Enter the year:\"))\n",
    "if (year%4)==0:\n",
    "   if (year%100)==0:\n",
    "       if (year%400)==0:\n",
    "        print(year,\"is a leap year\")\n",
    "       else:\n",
    "          print(year,\"is not a leap year\")\n",
    "   else:\n",
    "          print(year,\"is a leap year\")\n",
    "else:\n",
    "  print(year,\"is not a leap year\")\n",
    "        \n",
    "    \n",
    "        "
   ]
  },
  {
   "cell_type": "code",
   "execution_count": 1,
   "metadata": {},
   "outputs": [
    {
     "name": "stdout",
     "output_type": "stream",
     "text": [
      "2000 is a leap year\n"
     ]
    }
   ],
   "source": [
    "year = 2000\n",
    "\n",
    "# To get year (integer input) from the user\n",
    "# year = int(input(\"Enter a year: \"))\n",
    "\n",
    "if (year % 4) == 0:\n",
    "   if (year % 100) == 0:\n",
    "       if (year % 400) == 0:\n",
    "           print(\"{0} is a leap year\".format(year))\n",
    "       else:\n",
    "           print(\"{0} is not a leap year\".format(year))\n",
    "   else:\n",
    "       print(\"{0} is a leap year\".format(year))\n",
    "else:\n",
    "   print(\"{0} is not a leap year\".format(year))"
   ]
  },
  {
   "cell_type": "code",
   "execution_count": 4,
   "metadata": {},
   "outputs": [
    {
     "name": "stdout",
     "output_type": "stream",
     "text": [
      "2000\n",
      "given year is leap year\n"
     ]
    }
   ],
   "source": [
    "year = int(input())\n",
    "\n",
    "if year%4==0 and year%100!=0 or year%400==0:\n",
    "    print(\"given year is leap year\")\n",
    "else:\n",
    "    print(\" not a leap year\")"
   ]
  },
  {
   "cell_type": "code",
   "execution_count": 8,
   "metadata": {},
   "outputs": [
    {
     "name": "stdout",
     "output_type": "stream",
     "text": [
      "My number 0 is even\n",
      "My number 1 is odd\n",
      "My number 2 is even\n",
      "My number 3 is odd\n",
      "My number 4 is even\n",
      "My number 5 is odd\n",
      "My number 6 is even\n",
      "My number 7 is odd\n",
      "My number 8 is even\n",
      "My number 9 is odd\n"
     ]
    }
   ],
   "source": [
    "for i in range(10):\n",
    "    if i%2 == 0:\n",
    "        print(\"My number {} is even\".format(i))\n",
    "    else:\n",
    "        print(\"My number {} is odd\".format(i))"
   ]
  },
  {
   "cell_type": "code",
   "execution_count": null,
   "metadata": {},
   "outputs": [],
   "source": [
    "Write the program for swap the two number."
   ]
  },
  {
   "cell_type": "code",
   "execution_count": 18,
   "metadata": {},
   "outputs": [
    {
     "name": "stdout",
     "output_type": "stream",
     "text": [
      "1230\n",
      "2045\n",
      "a is: 105 b is: 30\n"
     ]
    }
   ],
   "source": [
    "a=int (input(\"12\"))\n",
    "b=int (input(\"20\"))\n",
    "a=a+b\n",
    "b=a-b\n",
    "a=a+b\n",
    "print(\"a is:\",a,\"b is:\",b)"
   ]
  },
  {
   "cell_type": "markdown",
   "metadata": {},
   "source": [
    "Write the program for Factorial series number using for loop."
   ]
  },
  {
   "cell_type": "code",
   "execution_count": 6,
   "metadata": {},
   "outputs": [
    {
     "name": "stdout",
     "output_type": "stream",
     "text": [
      "Enter the n number:5\n",
      "factorial of 5 is 120\n"
     ]
    }
   ],
   "source": [
    "n= int (input(\"Enter the n number:\"))\n",
    "result = 1\n",
    "for i in range(1,n + 1):\n",
    "    result = result*i\n",
    "    \n",
    "print(\"factorial of\",n,\"is\",result)    "
   ]
  },
  {
   "cell_type": "code",
   "execution_count": null,
   "metadata": {},
   "outputs": [],
   "source": [
    "n=int(input(\"Enter n value\":))\n",
    "result = 1\n",
    "\n",
    "    result = result*i\n",
    "    \n",
    "print(\"factorial of\",n,\"is\",result)  "
   ]
  },
  {
   "cell_type": "code",
   "execution_count": null,
   "metadata": {},
   "outputs": [],
   "source": []
  },
  {
   "cell_type": "code",
   "execution_count": null,
   "metadata": {},
   "outputs": [],
   "source": [
    "n=input(\"7:\")\n",
    "result=5\n",
    "for i in range(20,9,-1):\n",
    "    result=result*i\n",
    "print(\"factorial of\",n,\"is\",result)"
   ]
  },
  {
   "cell_type": "code",
   "execution_count": null,
   "metadata": {},
   "outputs": [],
   "source": [
    "Write the program for Fibonacci series number using while loop."
   ]
  },
  {
   "cell_type": "code",
   "execution_count": null,
   "metadata": {},
   "outputs": [],
   "source": [
    "n=int(input(\"enter n:\"))\n",
    "a = 0\n",
    "b = 1\n",
    "c = a+b\n",
    "print(a)\n",
    "print(b)\n",
    "while c<=n:\n",
    "    print(c)\n",
    "    a = b\n",
    "    b = c\n",
    "    c = a+b"
   ]
  },
  {
   "cell_type": "code",
   "execution_count": 13,
   "metadata": {},
   "outputs": [
    {
     "name": "stdout",
     "output_type": "stream",
     "text": [
      "enter n:36\n",
      "0\n",
      "1\n",
      "1\n",
      "2\n",
      "3\n",
      "5\n",
      "8\n",
      "13\n",
      "21\n",
      "34\n"
     ]
    }
   ],
   "source": [
    "n=int(input(\"enter n:\"))\n",
    "a = 0\n",
    "b = 1\n",
    "c = a+b\n",
    "print(a)\n",
    "print(b)\n",
    "while c<=n:\n",
    "    print(c)\n",
    "    a = b\n",
    "    b = c\n",
    "    c = a+b"
   ]
  },
  {
   "cell_type": "code",
   "execution_count": null,
   "metadata": {},
   "outputs": [],
   "source": [
    "1.Write the program for odd/even number using if else.\n",
    "2.Write the program for Leap year number using if else.\n",
    "3.Write the program for swap the two number.\n",
    "4.Write the program for Factorial series number using for loop.\n",
    "5.Write the program for Fibonacci series number using while loop."
   ]
  }
 ],
 "metadata": {
  "kernelspec": {
   "display_name": "Python 3",
   "language": "python",
   "name": "python3"
  },
  "language_info": {
   "codemirror_mode": {
    "name": "ipython",
    "version": 3
   },
   "file_extension": ".py",
   "mimetype": "text/x-python",
   "name": "python",
   "nbconvert_exporter": "python",
   "pygments_lexer": "ipython3",
   "version": "3.8.3"
  }
 },
 "nbformat": 4,
 "nbformat_minor": 4
}
