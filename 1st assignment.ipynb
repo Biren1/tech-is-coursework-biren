{
 "cells": [
  {
   "cell_type": "markdown",
   "metadata": {},
   "source": [
    "This second assignment.\n",
    "\n",
    "1.Write the program to Prime number.\n",
    "\n",
    "2.Write the program to Armstrong number.\n",
    "\n",
    "3.Write the program to find the smallest and largest number in a list.\n",
    "\n",
    "4.Write the program to reverse words in given string.\n",
    "\n",
    "5.Given a list of tuples, write a Python program to sort the tuples by the second item of each tuple.\n",
    "\n",
    "   Input : [('for', 28), (’Techis’, 5), (’Techis’, 60)] \n",
    "   Output : [(’Techis’, 5), ('for', 28), (‘Techis’, 60)]."
   ]
  },
  {
   "cell_type": "code",
   "execution_count": 3,
   "metadata": {},
   "outputs": [
    {
     "name": "stdout",
     "output_type": "stream",
     "text": [
      "My name is John, I am 30\n"
     ]
    }
   ],
   "source": [
    "age = \"30\"\n",
    "txt = \"My name is John, I am \" + age\n",
    "print(txt) "
   ]
  },
  {
   "cell_type": "code",
   "execution_count": 2,
   "metadata": {},
   "outputs": [
    {
     "name": "stdout",
     "output_type": "stream",
     "text": [
      "365 is not a prime number\n",
      "5 times 73 is 365\n"
     ]
    }
   ],
   "source": [
    "num = 365\n",
    "\n",
    "# To take input from the user\n",
    "#num = int(input(\"Enter a number: \"))\n",
    "\n",
    "# prime numbers are greater than 1\n",
    "if num > 1:\n",
    "   # check for factors\n",
    "   for i in range(2,num):\n",
    "       if (num % i) == 0:\n",
    "           print(num,\"is not a prime number\")\n",
    "           print(i,\"times\",num//i,\"is\",num)\n",
    "           break\n",
    "   else:\n",
    "       print(num,\"is a prime number\")\n",
    "       \n",
    "# if input number is less than\n",
    "# or equal to 1, it is not prime\n",
    "else:\n",
    "   print(num,\"is not a prime number\")"
   ]
  },
  {
   "cell_type": "markdown",
   "metadata": {},
   "source": [
    "Write the program to Armstrong number."
   ]
  },
  {
   "cell_type": "code",
   "execution_count": 3,
   "metadata": {},
   "outputs": [
    {
     "name": "stdout",
     "output_type": "stream",
     "text": [
      "Enter a number: 555\n",
      "555 is not an Armstrong number\n"
     ]
    }
   ],
   "source": [
    "# take input from the user\n",
    "num = int(input(\"Enter a number: \"))\n",
    "\n",
    "# initialize sum\n",
    "sum = 0\n",
    "\n",
    "# find the sum of the cube of each digit\n",
    "temp = num\n",
    "while temp > 0:\n",
    "   digit = temp % 10\n",
    "   sum += digit ** 3\n",
    "   temp //= 10\n",
    "\n",
    "# display the result\n",
    "if num == sum:\n",
    "   print(num,\"is an Armstrong number\")\n",
    "else:\n",
    "   print(num,\"is not an Armstrong number\")"
   ]
  },
  {
   "cell_type": "code",
   "execution_count": 1,
   "metadata": {},
   "outputs": [
    {
     "name": "stdout",
     "output_type": "stream",
     "text": [
      "Enter a number: 444\n",
      "444 is not an Armstrong number\n"
     ]
    }
   ],
   "source": [
    "# take input from the user\n",
    "num = int(input(\"Enter a number: \"))\n",
    "\n",
    "# initialize sum\n",
    "sum = 0\n",
    "\n",
    "# find the sum of the cube of each digit\n",
    "temp = num\n",
    "while temp > 0:\n",
    "   digit = temp % 10\n",
    "   sum += digit ** 3\n",
    "   temp //= 10\n",
    "\n",
    "# display the result\n",
    "if num == sum:\n",
    "   print(num,\"is an Armstrong number\")\n",
    "else:\n",
    "   print(num,\"is not an Armstrong number\")"
   ]
  },
  {
   "cell_type": "markdown",
   "metadata": {},
   "source": [
    "Write the program to find the smallest and largest number in a list"
   ]
  },
  {
   "cell_type": "code",
   "execution_count": 1,
   "metadata": {},
   "outputs": [
    {
     "name": "stdout",
     "output_type": "stream",
     "text": [
      "Please enter the Total Number of List Elements: 3\n",
      "Please enter the Value of 1 Element : 4\n",
      "Please enter the Value of 2 Element : 6\n",
      "Please enter the Value of 3 Element : 9\n",
      "The Smallest Element in this List is :  4\n",
      "The Largest Element in this List is :  9\n"
     ]
    }
   ],
   "source": [
    "# Python Program to find Largest and Smallest Number in a List \n",
    "\n",
    "NumList = []\n",
    "Number = int(input(\"Please enter the Total Number of List Elements: \"))\n",
    "for i in range(1, Number + 1):\n",
    "    value = int(input(\"Please enter the Value of %d Element : \" %i))\n",
    "    NumList.append(value)\n",
    "\n",
    "NumList.sort()\n",
    "\n",
    "print(\"The Smallest Element in this List is : \", NumList[0])\n",
    "print(\"The Largest Element in this List is : \", NumList[Number - 1])"
   ]
  },
  {
   "cell_type": "markdown",
   "metadata": {},
   "source": [
    "Write the program to reverse words in given string."
   ]
  },
  {
   "cell_type": "code",
   "execution_count": 2,
   "metadata": {},
   "outputs": [
    {
     "name": "stdout",
     "output_type": "stream",
     "text": [
      "string given in words reverse\n"
     ]
    }
   ],
   "source": [
    "## initializing the string\n",
    "string = \"reverse words in given string\"\n",
    "## splitting the string on space\n",
    "words = string.split()\n",
    "## reversing the words using reversed() function\n",
    "words = list(reversed(words))\n",
    "## joining the words and printing\n",
    "print(\" \".join(words))"
   ]
  },
  {
   "cell_type": "markdown",
   "metadata": {},
   "source": [
    "Given a list of tuples, write a Python program to sort the tuples by the second item of each tuple.\n",
    "Input : [('for', 28), (’Techis’, 5), (’Techis’, 60)] \n",
    "Output : [(’Techis’, 5), ('for', 28), (‘Techis’, 60)].\n"
   ]
  },
  {
   "cell_type": "code",
   "execution_count": 5,
   "metadata": {},
   "outputs": [
    {
     "ename": "SyntaxError",
     "evalue": "invalid syntax (<ipython-input-5-c9c2e3680989>, line 1)",
     "output_type": "error",
     "traceback": [
      "\u001b[1;36m  File \u001b[1;32m\"<ipython-input-5-c9c2e3680989>\"\u001b[1;36m, line \u001b[1;32m1\u001b[0m\n\u001b[1;33m    Sort_Tuple(tup):\u001b[0m\n\u001b[1;37m                    ^\u001b[0m\n\u001b[1;31mSyntaxError\u001b[0m\u001b[1;31m:\u001b[0m invalid syntax\n"
     ]
    }
   ],
   "source": [
    "Sort_Tuple(tup):\n",
    "    # getting length of list of tuples\n",
    "    lst = len(tup)\n",
    "    for i in range(0, lst):\n",
    "        for j in range(0, lst-i-1):\n",
    "            if (tup[j][1] > tup[j + 1][1]):\n",
    "                temp = tup[j]\n",
    "                tup[j]= tup[j + 1]\n",
    "                tup[j + 1]= temp\n",
    "    return tup\n",
    "#Driver code"
   ]
  }
 ],
 "metadata": {
  "kernelspec": {
   "display_name": "Python 3",
   "language": "python",
   "name": "python3"
  },
  "language_info": {
   "codemirror_mode": {
    "name": "ipython",
    "version": 3
   },
   "file_extension": ".py",
   "mimetype": "text/x-python",
   "name": "python",
   "nbconvert_exporter": "python",
   "pygments_lexer": "ipython3",
   "version": "3.8.3"
  }
 },
 "nbformat": 4,
 "nbformat_minor": 4
}
